{
 "cells": [
  {
   "cell_type": "markdown",
   "metadata": {},
   "source": [
    "# DQN for navigation "
   ]
  },
  {
   "cell_type": "markdown",
   "metadata": {},
   "source": [
    "A DQN using Unity ML-Agents environment and pytorch"
   ]
  },
  {
   "cell_type": "markdown",
   "metadata": {},
   "source": [
    "## Import and set environment"
   ]
  },
  {
   "cell_type": "code",
   "execution_count": 1,
   "metadata": {},
   "outputs": [],
   "source": [
    "from unityagents import UnityEnvironment\n",
    "import numpy as np\n",
    "\n",
    "import torch\n",
    "import torch.nn as nn # neural networks \n",
    "import torch.optim as optim #optimization\n",
    "import torch.nn.functional as F #convolution functions\n",
    "\n",
    "import random\n",
    "from collections import namedtuple, deque\n",
    "\n",
    "from IPython.display import clear_output\n",
    "import matplotlib.pyplot as plt\n",
    "%matplotlib inline"
   ]
  },
  {
   "cell_type": "code",
   "execution_count": 2,
   "metadata": {},
   "outputs": [
    {
     "name": "stderr",
     "output_type": "stream",
     "text": [
      "INFO:unityagents:\n",
      "'Academy' started successfully!\n",
      "Unity Academy name: Academy\n",
      "        Number of Brains: 1\n",
      "        Number of External Brains : 1\n",
      "        Lesson number : 0\n",
      "        Reset Parameters :\n",
      "\t\t\n",
      "Unity brain name: BananaBrain\n",
      "        Number of Visual Observations (per agent): 0\n",
      "        Vector Observation space type: continuous\n",
      "        Vector Observation space size (per agent): 37\n",
      "        Number of stacked Vector Observation: 1\n",
      "        Vector Action space type: discrete\n",
      "        Vector Action space size (per agent): 4\n",
      "        Vector Action descriptions: , , , \n"
     ]
    }
   ],
   "source": [
    "env = UnityEnvironment(file_name=\"Banana.app\")"
   ]
  },
  {
   "cell_type": "code",
   "execution_count": 3,
   "metadata": {},
   "outputs": [],
   "source": [
    "# set params\n",
    "SEED = 1 # replicability randomization seed\n",
    "BUFFER_SIZE = int(1e5) #replay buffer size\n",
    "BATCH_SIZE = 64 # training batch size\n",
    "GAMMA = 0.99 # discount factor\n",
    "TAU = 2e-3 # target parameters update\n",
    "ALPHA = 1e-3 # learning rate\n",
    "UPDATE_RATE = 4 # update frequency\n",
    "\n",
    "MAX_EPISODES=3000 \n",
    "TIME_STEPS=1000\n",
    "INIT_EPSILON=1.0\n",
    "MIN_EPSILON=0.01\n",
    "EPSILON_DECAY=0.995\n"
   ]
  },
  {
   "cell_type": "code",
   "execution_count": 4,
   "metadata": {},
   "outputs": [],
   "source": [
    "brain_name = env.brain_names[0]\n",
    "brain = env.brains[brain_name]"
   ]
  },
  {
   "cell_type": "code",
   "execution_count": 5,
   "metadata": {},
   "outputs": [
    {
     "name": "stdout",
     "output_type": "stream",
     "text": [
      "Number of agents: 1\n",
      "Number of actions: 4\n",
      "States look like: [1.         0.         0.         0.         0.84408134 0.\n",
      " 0.         1.         0.         0.0748472  0.         1.\n",
      " 0.         0.         0.25755    1.         0.         0.\n",
      " 0.         0.74177343 0.         1.         0.         0.\n",
      " 0.25854847 0.         0.         1.         0.         0.09355672\n",
      " 0.         1.         0.         0.         0.31969345 0.\n",
      " 0.        ]\n",
      "States have length: 37\n"
     ]
    }
   ],
   "source": [
    "# reset the environment\n",
    "env_info = env.reset(train_mode=True)[brain_name]\n",
    "\n",
    "# number of agents in the environment\n",
    "print('Number of agents:', len(env_info.agents))\n",
    "\n",
    "# number of actions\n",
    "action_size = brain.vector_action_space_size\n",
    "print('Number of actions:', action_size)\n",
    "\n",
    "# examine the state space \n",
    "state = env_info.vector_observations[0]\n",
    "print('States look like:', state)\n",
    "state_size = len(state)\n",
    "print('States have length:', state_size)"
   ]
  },
  {
   "cell_type": "markdown",
   "metadata": {},
   "source": [
    "## DQN agents"
   ]
  },
  {
   "cell_type": "code",
   "execution_count": 6,
   "metadata": {},
   "outputs": [],
   "source": [
    "## memory replay\n",
    "class ReplayMemory():\n",
    "    '''\n",
    "    The class stores the transitions that the agent observes- \n",
    "     so we can use it later.\n",
    "     \n",
    "    The goal of the memory replay is to overcome a few issues with naive DQN.\n",
    "    First, it reduces the high correlation between action and states, \n",
    "        which results in an unstable and ineffective policy.\n",
    "    Second, it increases the learning speed by using small batches.\n",
    "    Lastly, it avoids \"forgetting\" by randomly reusing past transitions. \n",
    "        \n",
    "    '''\n",
    "    def __init__(self, buffer_size=BUFFER_SIZE, \n",
    "                 batch_size=BATCH_SIZE, \n",
    "                 seed=SEED):\n",
    "        self.buffer = deque(maxlen=buffer_size)\n",
    "        self.batch_size = batch_size\n",
    "        self.seed = random.seed(seed)\n",
    "        self.observation = namedtuple(\"observation\", \n",
    "                        field_names=[\"state\", \"action\", \"reward\", \"next_state\", \"done\"])\n",
    " \n",
    "\n",
    "    def add(self, state, action, reward, next_state, done):\n",
    "        '''\n",
    "        Add a new observation to the buffer\n",
    "        '''\n",
    "        observation = self.observation(state, action, reward, next_state, done)\n",
    "        self.buffer.append(observation)\n",
    "    \n",
    "    def sample(self,):\n",
    "        '''\n",
    "        Randomly samples from the buffer\n",
    "        The transitions are decorrelated since they are sampled randomly\n",
    "        '''\n",
    "        observations = random.sample(self.buffer, k=self.batch_size)\n",
    "\n",
    "        states = torch.from_numpy(np.vstack([obvs.state for obvs in observations if obvs is not None])).float().to(device)\n",
    "        actions = torch.from_numpy(np.vstack([obvs.action for obvs in observations if obvs is not None])).long().to(device)\n",
    "        rewards = torch.from_numpy(np.vstack([obvs.reward for obvs in observations if obvs is not None])).float().to(device)\n",
    "        next_states = torch.from_numpy(np.vstack([obvs.next_state for obvs in observations if obvs is not None])).float().to(device)\n",
    "        dones = torch.from_numpy(np.vstack([obvs.done for obvs in observations if obvs is not None]).astype(np.uint8)).float().to(device)\n",
    "  \n",
    "        return (states, actions, rewards, next_states, dones)\n",
    "    \n",
    "    def __len__(self):\n",
    "        '''Return the current size of internal memory.'''\n",
    "        return len(self.buffer)"
   ]
  },
  {
   "cell_type": "code",
   "execution_count": 7,
   "metadata": {},
   "outputs": [],
   "source": [
    "device = torch.device(\"cuda:0\" if torch.cuda.is_available() else \"cpu\")\n",
    "\n",
    "class DQN_Agent():\n",
    "    '''\n",
    "    DQN- Deep Q-learning Network is a deep neural network \n",
    "        that acts as a function approximator.\n",
    "        \n",
    "    '''\n",
    "    def __init__(self, env,\n",
    "                 replay_memory_size=BUFFER_SIZE, \n",
    "                 batch_size=BATCH_SIZE, \n",
    "                 gamma=GAMMA, alpha=ALPHA, target_tau=TAU,\n",
    "                 max_episodes=MAX_EPISODES,time_steps=TIME_STEPS,\n",
    "                 init_eps=INIT_EPSILON, min_eps=MIN_EPSILON, eps_decay=EPSILON_DECAY,\n",
    "                 update_rate=UPDATE_RATE, seed=SEED):\n",
    "        \n",
    "        #get the env and reset it\n",
    "        self.env = env \n",
    "        brain_name = self.env.brain_names[0]\n",
    "        brain = self.env.brains[brain_name]\n",
    "        self.env.reset(train_mode=True)[brain_name]\n",
    "        \n",
    "        self.action_size = brain.vector_action_space_size # N actions\n",
    "        self.state_size = len(env_info.vector_observations[0]) #N states\n",
    "        \n",
    "        self.buffer_size = int(replay_memory_size) \n",
    "        self.batch_size = batch_size\n",
    "        \n",
    "        # Network hyperparameters \n",
    "        self.gamma = gamma # discount factor\n",
    "        self.tau = target_tau # target network parameters update\n",
    "        \n",
    "        self.update_rate = update_rate #update when step%update_rate==0\n",
    "        self.seed = random.seed(seed) #randomization for replicability\n",
    "        \n",
    "        # Q-Network\n",
    "        self.qnetwork_local = self.QNetwork().to(device)\n",
    "        self.qnetwork_target = self.QNetwork().to(device)\n",
    "        self.optimizer = optim.Adam(self.qnetwork_local.parameters(), lr=alpha)\n",
    "        \n",
    "        # Replay memory\n",
    "        self.memory = ReplayMemory(replay_memory_size, batch_size, seed)\n",
    "        self.t_step = 0 #time step init\n",
    "        \n",
    "        #training params\n",
    "        self.max_episodes = max_episodes #max training episodes\n",
    "        self.time_steps = time_steps #timesteps per episode\n",
    "        self.init_eps = init_eps #initial epsilon for gteedy epsilon action choice\n",
    "        self.min_eps = min_eps #smallest possible greedy\n",
    "        self.eps_decay = eps_decay #epsilon deacy along the episodes\n",
    "        \n",
    "    def QNetwork(self):\n",
    "        '''\n",
    "        build the q-learning network\n",
    "        '''\n",
    "        model = nn.Sequential(nn.Linear(self.state_size, 64),\n",
    "                             nn.ReLU(),\n",
    "                             nn.Linear(64, 64),\n",
    "                             nn.ReLU(),\n",
    "                             nn.Linear(64,self.action_size))\n",
    "        return model\n",
    "\n",
    "    def step(self, state, action, reward, next_state, done):\n",
    "        '''add current observations to memory\n",
    "        '''\n",
    "        self.memory.add(state, action, reward, next_state, done)\n",
    "        \n",
    "        # update the network (given UPDATE_RATE)\n",
    "        self.t_step = (self.t_step + 1) % self.update_rate\n",
    "        if self.t_step == 0:\n",
    "            # If enough samples are available in memory, get random subset and learn\n",
    "            if len(self.memory) > self.batch_size:\n",
    "                observations = self.memory.sample()\n",
    "                self.policy_update(observations)\n",
    "    \n",
    "    def act(self, state, eps=0.):\n",
    "        '''\n",
    "        given current policy, returns action for the input state\n",
    "        '''\n",
    "        state = torch.from_numpy(state).float().unsqueeze(0).to(device)\n",
    "        self.qnetwork_local.eval()\n",
    "        \n",
    "        with torch.no_grad():\n",
    "            action_values = self.qnetwork_local(state)\n",
    "        self.qnetwork_local.train()\n",
    "\n",
    "        # epsilon-greedy action selection\n",
    "        if random.random() > eps:\n",
    "            return np.argmax(action_values.cpu().data.numpy())\n",
    "        else:\n",
    "            return random.choice(np.arange(self.action_size))\n",
    "        \n",
    "    def policy_update(self, observations):\n",
    "        \"\"\"\n",
    "        update policy using a randomly sampled batch of observations\n",
    "        \"\"\"\n",
    "        states, actions, rewards, next_states, dones = observations\n",
    "\n",
    "        # Get max predicted Q values (for next states) from target model\n",
    "        Q_targets_next = self.qnetwork_target(next_states).detach().max(1)[0].unsqueeze(1)\n",
    "        # Compute Q targets for current states \n",
    "        Q_targets = rewards + (self.gamma * Q_targets_next * (1 - dones))\n",
    "\n",
    "        # Get expected Q values from local model\n",
    "        Q_expected = self.qnetwork_local(states).gather(1, actions)\n",
    "\n",
    "        # Compute loss\n",
    "        loss = F.mse_loss(Q_expected, Q_targets)\n",
    "        # Minimize the loss\n",
    "        self.optimizer.zero_grad()\n",
    "        loss.backward()\n",
    "        self.optimizer.step()\n",
    "\n",
    "        ## update target net\n",
    "        # θ_target = τ*θ_local + (1 - τ)*θ_target\n",
    "        \n",
    "        for target_param, local_param in zip(self.qnetwork_target.parameters(), \n",
    "                                             self.qnetwork_local.parameters()):\n",
    "            target_param.data.copy_(self.tau*local_param.data + (1.0-self.tau)*target_param.data)\n",
    "        \n",
    "    def train(self):\n",
    "        '''\n",
    "        Train the DQN network\n",
    "        '''\n",
    "        scores = []\n",
    "        eps = self.init_eps\n",
    "        \n",
    "        for episode in range(1, self.max_episodes+1):\n",
    "            #set the env\n",
    "            env_info = self.env.reset(train_mode=True)[brain_name]\n",
    "            state = env_info.vector_observations[0]         \n",
    "            episode_score = 0\n",
    "            \n",
    "            # run each episode\n",
    "            for _ in range(self.time_steps): \n",
    "                #act\n",
    "                action = self.act(state, eps)\n",
    "                env_info = env.step(action)[brain_name]\n",
    "                next_state = env_info.vector_observations[0]\n",
    "                reward = env_info.rewards[0]  \n",
    "                done = env_info.local_done[0]\n",
    "                #record\n",
    "                self.step(state, action, reward, next_state, done)\n",
    "                episode_score += reward\n",
    "                state = next_state\n",
    "                \n",
    "                #exit if finished\n",
    "                if done:                                     \n",
    "                    break\n",
    "            \n",
    "            scores.append(episode_score)\n",
    "            # decrease epsilon\n",
    "            eps = max(self.min_eps, eps*self.eps_decay)\n",
    "            if episode % 100 == 0:\n",
    "                print('Episode: ',episode, 'Score: ',np.mean(scores[-100:]))\n",
    "            if np.mean(scores[-100:])>=13.0:\n",
    "                torch.save(self.qnetwork_local.state_dict(), 'checkpoint.pth')\n",
    "                print('Episode: ',episode, 'Score: ',np.mean(scores[-100:]))\n",
    "\n",
    "                break\n",
    "        return scores"
   ]
  },
  {
   "cell_type": "markdown",
   "metadata": {},
   "source": [
    "## Train agent"
   ]
  },
  {
   "cell_type": "code",
   "execution_count": 8,
   "metadata": {},
   "outputs": [
    {
     "name": "stdout",
     "output_type": "stream",
     "text": [
      "Episode:  100 Score:  0.89\n",
      "Episode:  200 Score:  4.44\n",
      "Episode:  300 Score:  8.34\n",
      "Episode:  400 Score:  9.79\n",
      "Episode:  496 Score:  13.01\n"
     ]
    }
   ],
   "source": [
    "agent=DQN_Agent(env)\n",
    "scores=agent.train()"
   ]
  },
  {
   "cell_type": "code",
   "execution_count": 22,
   "metadata": {},
   "outputs": [
    {
     "data": {
      "image/png": "[encoded data removed]",
      "text/plain": [
       "<Figure size 432x288 with 1 Axes>"
      ]
     },
     "metadata": {
      "needs_background": "light"
     },
     "output_type": "display_data"
    }
   ],
   "source": [
    "fig = plt.figure()\n",
    "ax = fig.add_subplot(111)\n",
    "plt.plot(np.arange(len(scores)), scores, label='performance')\n",
    "plt.ylabel('Reward')\n",
    "plt.axhline(y=13, color='black', linestyle=\"--\", label='requirement')\n",
    "plt.xlabel('Episodes')\n",
    "plt.legend()\n",
    "plt.show()"
   ]
  },
  {
   "cell_type": "code",
   "execution_count": 23,
   "metadata": {},
   "outputs": [],
   "source": [
    "torch.save(agent.qnetwork_target.state_dict(), 'model.')"
   ]
  },
  {
   "cell_type": "code",
   "execution_count": null,
   "metadata": {},
   "outputs": [],
   "source": []
  }
 ],
 "metadata": {
  "kernelspec": {
   "display_name": "Python 3",
   "language": "python",
   "name": "python3"
  },
  "language_info": {
   "codemirror_mode": {
    "name": "ipython",
    "version": 3
   },
   "file_extension": ".py",
   "mimetype": "text/x-python",
   "name": "python",
   "nbconvert_exporter": "python",
   "pygments_lexer": "ipython3",
   "version": "3.6.10"
  }
 },
 "nbformat": 4,
 "nbformat_minor": 2
}
